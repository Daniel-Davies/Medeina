{
 "cells": [
  {
   "cell_type": "code",
   "execution_count": 1,
   "metadata": {},
   "outputs": [
    {
     "data": {
      "text/plain": [
       "['conochiloides dossuarius',\n",
       " 'monoraphidium minutum',\n",
       " 'chroococcus limneticus',\n",
       " 'chroococcus dispersus',\n",
       " 'hydroporus erythrocephalus',\n",
       " 'chydorus latus',\n",
       " 'corynoneura scutellata',\n",
       " 'polycentropus flavomaculatus',\n",
       " 'ephemera danica',\n",
       " 'gammarus pulex',\n",
       " 'holocentropus picicornis',\n",
       " 'chydorus latus',\n",
       " 'procladius sagittalis']"
      ]
     },
     "execution_count": 1,
     "metadata": {},
     "output_type": "execute_result"
    }
   ],
   "source": [
    "from Web import Web\n",
    "from webStore import WebStore\n",
    "import networkx as nx\n",
    "\n",
    "from common import *\n",
    "from config import *\n",
    "w = WebStore('C:/Users/davie/Desktop')\n",
    "mappingOrg = retrieveObjFromStore('./CompressedWebStore',REALNAMES)\n",
    "mapping = {v:k for k,v in mappingOrg.items()}\n",
    "ids = [444,46,171,416,409,28,122,301,53,81,26,28,443]\n",
    "app = list(map(lambda x: mapping[x],ids))\n",
    "app"
   ]
  },
  {
   "cell_type": "code",
   "execution_count": 2,
   "metadata": {},
   "outputs": [
    {
     "name": "stdout",
     "output_type": "stream",
     "text": [
      "[('ancylus fluviatilis', 'navicula gregaria', {}), ('ancylus fluviatilis', 'navicula tripunctata', {}), ('ancylus fluviatilis', 'amphora pediculus', {}), ('ancylus fluviatilis', 'gomphonema olivaceum', {}), ('ancylus fluviatilis', 'staurosira elliptica', {}), ('ancylus fluviatilis', 'cocconeis placentula', {}), ('ancylus fluviatilis', 'nitzschia dissipata', {}), ('ancylus fluviatilis', 'nitzschia perminuta', {}), ('ancylus fluviatilis', 'melosira varians', {}), ('ancylus fluviatilis', 'rhoicosphenia abbreviata', {})]\n",
      "Indexing records 0 to 100 [of 455]\n",
      "Indexing records 100 to 200 [of 455]\n",
      "Indexing records 200 to 300 [of 455]\n",
      "Indexing records 300 to 400 [of 455]\n",
      "Indexing records 400 to 455 [of 455]\n",
      "Could not index algal cysts\n",
      "Could not index fungal spores\n",
      "Could not index achnanthes devei\n",
      "Could not index erpobdella cocoons\n",
      "Could not index hyphomycete fungal\n"
     ]
    }
   ],
   "source": [
    "dct = {}\n",
    "dct['encoding'] = {}\n",
    "dct['encoding']['interactionFormat'] = 'pair'\n",
    "dct['encoding']['head'] = 'consumer'\n",
    "dct['encoding']['tail'] = 'resource'\n",
    "dct['encoding']['path'] = \"C:/Users/davie/Desktop/Masters/Dissertation/Code/DissertationCode/Eigg/Utilities/RelevantDatasets/production/freshwater.csv\"\n",
    "w.add_interactions(dct)"
   ]
  },
  {
   "cell_type": "code",
   "execution_count": 3,
   "metadata": {},
   "outputs": [
    {
     "ename": "ValueError",
     "evalue": "invalid literal for int() with base 10: '4.1'",
     "output_type": "error",
     "traceback": [
      "\u001b[1;31m---------------------------------------------------------------------------\u001b[0m",
      "\u001b[1;31mValueError\u001b[0m                                Traceback (most recent call last)",
      "\u001b[1;32m<ipython-input-3-ca69cc4f4fb7>\u001b[0m in \u001b[0;36m<module>\u001b[1;34m\u001b[0m\n\u001b[1;32m----> 1\u001b[1;33m \u001b[0mint\u001b[0m\u001b[1;33m(\u001b[0m\u001b[1;34m'4.1'\u001b[0m\u001b[1;33m)\u001b[0m\u001b[1;33m\u001b[0m\u001b[1;33m\u001b[0m\u001b[0m\n\u001b[0m",
      "\u001b[1;31mValueError\u001b[0m: invalid literal for int() with base 10: '4.1'"
     ]
    }
   ],
   "source": [
    "int('4.1')"
   ]
  },
  {
   "cell_type": "code",
   "execution_count": null,
   "metadata": {},
   "outputs": [],
   "source": [
    "from Web import Web\n",
    "f = Web()\n",
    "f.addTaxonomicExcpetion(mapping[53],'genus','kingdom')"
   ]
  },
  {
   "cell_type": "code",
   "execution_count": null,
   "metadata": {},
   "outputs": [],
   "source": [
    "mappingOrg['salmo trutta']"
   ]
  },
  {
   "cell_type": "code",
   "execution_count": null,
   "metadata": {},
   "outputs": [],
   "source": [
    "x = f.apply(app,'exact')\n"
   ]
  },
  {
   "cell_type": "code",
   "execution_count": null,
   "metadata": {},
   "outputs": [],
   "source": [
    "m = x.audit('C:/Users/davie/Desktop')"
   ]
  },
  {
   "cell_type": "code",
   "execution_count": null,
   "metadata": {},
   "outputs": [],
   "source": [
    "len(m)"
   ]
  },
  {
   "cell_type": "code",
   "execution_count": null,
   "metadata": {},
   "outputs": [],
   "source": [
    "l = set(sorted(list(map(lambda y: (mappingOrg[y[0]],mappingOrg[y[1]]) , x.interactionStore))))\n",
    "print(len(l))\n",
    "x.interactionStore"
   ]
  },
  {
   "cell_type": "code",
   "execution_count": null,
   "metadata": {},
   "outputs": [],
   "source": [
    "x.linkEvidence"
   ]
  },
  {
   "cell_type": "code",
   "execution_count": null,
   "metadata": {},
   "outputs": [],
   "source": [
    "m = sorted(list(map(lambda y: (mappingOrg[y[0]],mappingOrg[y[1]]) , x.interactionStore)))\n",
    "set(m) - set(l)"
   ]
  },
  {
   "cell_type": "code",
   "execution_count": null,
   "metadata": {},
   "outputs": [],
   "source": [
    "x.interactionStore"
   ]
  },
  {
   "cell_type": "code",
   "execution_count": null,
   "metadata": {},
   "outputs": [],
   "source": [
    "x.stringNames"
   ]
  },
  {
   "cell_type": "code",
   "execution_count": null,
   "metadata": {},
   "outputs": [],
   "source": [
    "x.toList()"
   ]
  },
  {
   "cell_type": "code",
   "execution_count": null,
   "metadata": {},
   "outputs": [],
   "source": [
    "y = x.toMatrix()\n",
    "# nx.draw(y,with_labels=True)\n",
    "y"
   ]
  },
  {
   "cell_type": "code",
   "execution_count": null,
   "metadata": {},
   "outputs": [],
   "source": [
    "nx.draw(x.toGraph())"
   ]
  },
  {
   "cell_type": "code",
   "execution_count": null,
   "metadata": {},
   "outputs": [],
   "source": [
    "g = f.filterByTaxa([('maxillopoda','class')])\n",
    "len(g.stringNames)"
   ]
  },
  {
   "cell_type": "code",
   "execution_count": null,
   "metadata": {},
   "outputs": [],
   "source": [
    "f.stringNames"
   ]
  },
  {
   "cell_type": "code",
   "execution_count": null,
   "metadata": {},
   "outputs": [],
   "source": [
    "interactions = g.interactions\n",
    "total = 0\n",
    "for item in interactions:\n",
    "    for item2 in interactions[item]:\n",
    "        total += len(interactions[item][item2])\n",
    "\n",
    "total"
   ]
  },
  {
   "cell_type": "code",
   "execution_count": null,
   "metadata": {},
   "outputs": [],
   "source": [
    "len(g.datasetMetas), len(f.datasetMetas)"
   ]
  },
  {
   "cell_type": "code",
   "execution_count": null,
   "metadata": {},
   "outputs": [],
   "source": [
    "len(g.linkMetas)"
   ]
  },
  {
   "cell_type": "code",
   "execution_count": null,
   "metadata": {},
   "outputs": [],
   "source": [
    "g.datasetMetas"
   ]
  },
  {
   "cell_type": "code",
   "execution_count": null,
   "metadata": {},
   "outputs": [],
   "source": [
    "len(g.taxaExceptions), len(f.taxaExceptions)"
   ]
  },
  {
   "cell_type": "code",
   "execution_count": null,
   "metadata": {},
   "outputs": [],
   "source": [
    "len(g.stringNames), len(f.stringNames)"
   ]
  },
  {
   "cell_type": "code",
   "execution_count": null,
   "metadata": {},
   "outputs": [],
   "source": [
    "len(g.interactions), len(f.interactions)"
   ]
  },
  {
   "cell_type": "code",
   "execution_count": null,
   "metadata": {},
   "outputs": [],
   "source": [
    "g.summarise()"
   ]
  },
  {
   "cell_type": "code",
   "execution_count": null,
   "metadata": {},
   "outputs": [],
   "source": [
    "m = f.replicateFoodWeb()\n",
    "m.logbook"
   ]
  },
  {
   "cell_type": "code",
   "execution_count": null,
   "metadata": {},
   "outputs": [],
   "source": [
    "m.logbook = []"
   ]
  },
  {
   "cell_type": "code",
   "execution_count": null,
   "metadata": {},
   "outputs": [],
   "source": [
    "m.logbook"
   ]
  },
  {
   "cell_type": "code",
   "execution_count": null,
   "metadata": {},
   "outputs": [],
   "source": [
    "f.logbook"
   ]
  },
  {
   "cell_type": "code",
   "execution_count": null,
   "metadata": {},
   "outputs": [],
   "source": [
    "f.viewSessionTaxonomicExceptions()"
   ]
  },
  {
   "cell_type": "code",
   "execution_count": null,
   "metadata": {},
   "outputs": [],
   "source": [
    "def ff(*args,**kwargs):\n",
    "    print(args,kwargs)\n",
    "\n",
    "ff('hello',new='OK')"
   ]
  },
  {
   "cell_type": "code",
   "execution_count": null,
   "metadata": {},
   "outputs": [],
   "source": [
    "import os\n",
    "files = list(filter(lambda x: \".py\" in x,os.listdir(\".\")))\n",
    "files"
   ]
  },
  {
   "cell_type": "code",
   "execution_count": null,
   "metadata": {},
   "outputs": [],
   "source": [
    "lines = 0\n",
    "for f in files:\n",
    "    with open(f,'r') as fh:\n",
    "        lines += len(fh.readlines())\n",
    "lines"
   ]
  },
  {
   "cell_type": "code",
   "execution_count": null,
   "metadata": {},
   "outputs": [],
   "source": [
    "sum([[1,2],[3,4]],[])"
   ]
  },
  {
   "cell_type": "code",
   "execution_count": null,
   "metadata": {},
   "outputs": [],
   "source": [
    "from common import *\n",
    "from config import *\n",
    "\n",
    "mapping = retrieveObjFromStore('./CompressedWebStore',REALNAMES)\n",
    "mapping = {v:k for k,v in mapping.items()}"
   ]
  },
  {
   "cell_type": "code",
   "execution_count": null,
   "metadata": {},
   "outputs": [],
   "source": [
    "list(*[(1,4), (2,5), (3,6)])"
   ]
  },
  {
   "cell_type": "code",
   "execution_count": null,
   "metadata": {},
   "outputs": [],
   "source": [
    "id(\"d]]\")"
   ]
  },
  {
   "cell_type": "code",
   "execution_count": null,
   "metadata": {},
   "outputs": [],
   "source": [
    "!pip install Medeina "
   ]
  },
  {
   "cell_type": "code",
   "execution_count": null,
   "metadata": {},
   "outputs": [],
   "source": [
    "from Medeina.webStore import WebStore\n",
    "f = WebStore()"
   ]
  },
  {
   "cell_type": "code",
   "execution_count": null,
   "metadata": {},
   "outputs": [],
   "source": [
    "f.audit()"
   ]
  },
  {
   "cell_type": "code",
   "execution_count": null,
   "metadata": {},
   "outputs": [],
   "source": [
    "!pip install ete2"
   ]
  },
  {
   "cell_type": "code",
   "execution_count": null,
   "metadata": {},
   "outputs": [],
   "source": [
    "from ete2 import NCBITaxa\n",
    "ncbi = NCBITaxa()"
   ]
  },
  {
   "cell_type": "code",
   "execution_count": null,
   "metadata": {},
   "outputs": [],
   "source": [
    "y = {'ok':4}\n",
    "x = y['ok'] if 'ok' in y else \"bye\"\n",
    "x"
   ]
  },
  {
   "cell_type": "code",
   "execution_count": null,
   "metadata": {},
   "outputs": [],
   "source": [
    "import re\n",
    "species = '2'\n",
    "species = re.sub('[^\\d.]+','', species)\n",
    "int(float(species))\n",
    "int(float(re.sub('[^\\d.]+','', '<0.02')))"
   ]
  },
  {
   "cell_type": "code",
   "execution_count": null,
   "metadata": {},
   "outputs": [],
   "source": [
    "'2'.isnumeric()"
   ]
  },
  {
   "cell_type": "code",
   "execution_count": 58,
   "metadata": {},
   "outputs": [
    {
     "data": {
      "text/plain": [
       "'g h'"
      ]
     },
     "execution_count": 58,
     "metadata": {},
     "output_type": "execute_result"
    }
   ],
   "source": [
    "import re\n",
    "n = re.sub('[^a-zA-Z ]+',' ', species)\n",
    "n"
   ]
  },
  {
   "cell_type": "code",
   "execution_count": 45,
   "metadata": {},
   "outputs": [
    {
     "name": "stdout",
     "output_type": "stream",
     "text": [
      "a*c!\n"
     ]
    }
   ],
   "source": [
    "a_string = \"a*c!\"\n",
    "new_string = re.sub(\"[^a-zA-Z]+ \", \" \", a_string)\n",
    "\n",
    "print(new_string)"
   ]
  },
  {
   "cell_type": "code",
   "execution_count": 60,
   "metadata": {},
   "outputs": [
    {
     "data": {
      "text/plain": [
       "'lo'"
      ]
     },
     "execution_count": 60,
     "metadata": {},
     "output_type": "execute_result"
    }
   ],
   "source": [
    "\"hello\"[-2:]"
   ]
  },
  {
   "cell_type": "code",
   "execution_count": 65,
   "metadata": {},
   "outputs": [
    {
     "data": {
      "text/plain": [
       "'Hello there'"
      ]
     },
     "execution_count": 65,
     "metadata": {},
     "output_type": "execute_result"
    }
   ],
   "source": [
    "from taxon_parser import TaxonParser, UnparsableNameException\n",
    "\n",
    "parser = TaxonParser('hello there cf')\n",
    "parser = parser.parse()\n",
    "parser.canonicalName()"
   ]
  }
 ],
 "metadata": {
  "kernelspec": {
   "display_name": "Python 3",
   "language": "python",
   "name": "python3"
  },
  "language_info": {
   "codemirror_mode": {
    "name": "ipython",
    "version": 3
   },
   "file_extension": ".py",
   "mimetype": "text/x-python",
   "name": "python",
   "nbconvert_exporter": "python",
   "pygments_lexer": "ipython3",
   "version": "3.6.10"
  }
 },
 "nbformat": 4,
 "nbformat_minor": 4
}
