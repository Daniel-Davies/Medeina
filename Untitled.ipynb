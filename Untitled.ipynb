{
 "cells": [
  {
   "cell_type": "code",
   "execution_count": 1,
   "metadata": {},
   "outputs": [
    {
     "data": {
      "text/plain": [
       "['conochiloides dossuarius',\n",
       " 'monoraphidium minutum',\n",
       " 'chroococcus limneticus',\n",
       " 'chroococcus dispersus',\n",
       " 'hydroporus erythrocephalus',\n",
       " 'chydorus latus',\n",
       " 'corynoneura scutellata',\n",
       " 'polycentropus flavomaculatus',\n",
       " 'ephemera danica',\n",
       " 'gammarus pulex',\n",
       " 'holocentropus picicornis',\n",
       " 'chydorus latus',\n",
       " 'procladius sagittalis']"
      ]
     },
     "execution_count": 1,
     "metadata": {},
     "output_type": "execute_result"
    }
   ],
   "source": [
    "from Web import Web\n",
    "import networkx as nx\n",
    "\n",
    "from common import *\n",
    "from config import *\n",
    "\n",
    "mappingOrg = retrieveObjFromStore('./CompressedWebStore',REALNAMES)\n",
    "mapping = {v:k for k,v in mappingOrg.items()}\n",
    "ids = [444,46,171,416,409,28,122,301,53,81,26,28,443]\n",
    "app = list(map(lambda x: mapping[x],ids))\n",
    "app"
   ]
  },
  {
   "cell_type": "code",
   "execution_count": 2,
   "metadata": {},
   "outputs": [],
   "source": [
    "from Web import Web\n",
    "f = Web()\n",
    "f.addTaxonomicExcpetion(mapping[53],'genus','kingdom')"
   ]
  },
  {
   "cell_type": "code",
   "execution_count": 3,
   "metadata": {},
   "outputs": [
    {
     "data": {
      "text/plain": [
       "44"
      ]
     },
     "execution_count": 3,
     "metadata": {},
     "output_type": "execute_result"
    }
   ],
   "source": [
    "mappingOrg['salmo trutta']"
   ]
  },
  {
   "cell_type": "code",
   "execution_count": 4,
   "metadata": {},
   "outputs": [
    {
     "name": "stdout",
     "output_type": "stream",
     "text": [
      "Application complete\n",
      "--------------------\n",
      "User provided 12 unique, valid species\n",
      "Found 23 unique interactions\n",
      "Captured 14 interactions using the \"species\" level\n",
      "Captured 11 interactions from taxonomic exceptions\n",
      "Involvement of 12 user provided species captured\n",
      "Total species involvement for this application: 100.0%\n"
     ]
    }
   ],
   "source": [
    "x = f.apply(app,'exact')\n"
   ]
  },
  {
   "cell_type": "code",
   "execution_count": 5,
   "metadata": {},
   "outputs": [
    {
     "name": "stdout",
     "output_type": "stream",
     "text": [
      "23\n"
     ]
    },
    {
     "data": {
      "text/plain": [
       "[('polycentropus flavomaculatus', 'polycentropus flavomaculatus'),\n",
       " ('polycentropus flavomaculatus', 'gammarus pulex'),\n",
       " ('holocentropus picicornis', 'procladius sagittalis'),\n",
       " ('holocentropus picicornis', 'hydroporus erythrocephalus'),\n",
       " ('holocentropus picicornis', 'corynoneura scutellata'),\n",
       " ('holocentropus picicornis', 'chydorus latus'),\n",
       " ('procladius sagittalis', 'corynoneura scutellata'),\n",
       " ('procladius sagittalis', 'chydorus latus'),\n",
       " ('hydroporus erythrocephalus', 'procladius sagittalis'),\n",
       " ('hydroporus erythrocephalus', 'corynoneura scutellata'),\n",
       " ('hydroporus erythrocephalus', 'chydorus latus'),\n",
       " ('conochiloides dossuarius', 'chroococcus limneticus'),\n",
       " ('conochiloides dossuarius', 'chroococcus dispersus'),\n",
       " ('conochiloides dossuarius', 'monoraphidium minutum'),\n",
       " ('ephemera danica', 'chroococcus limneticus'),\n",
       " ('ephemera danica', 'chroococcus dispersus'),\n",
       " ('polycentropus flavomaculatus', 'polycentropus flavomaculatus'),\n",
       " ('polycentropus flavomaculatus', 'holocentropus picicornis'),\n",
       " ('polycentropus flavomaculatus', 'procladius sagittalis'),\n",
       " ('polycentropus flavomaculatus', 'hydroporus erythrocephalus'),\n",
       " ('polycentropus flavomaculatus', 'corynoneura scutellata'),\n",
       " ('polycentropus flavomaculatus', 'ephemera danica'),\n",
       " ('polycentropus flavomaculatus', 'gammarus pulex'),\n",
       " ('polycentropus flavomaculatus', 'chydorus latus'),\n",
       " ('polycentropus flavomaculatus', 'conochiloides dossuarius')]"
      ]
     },
     "execution_count": 5,
     "metadata": {},
     "output_type": "execute_result"
    }
   ],
   "source": [
    "l = set(sorted(list(map(lambda y: (mappingOrg[y[0]],mappingOrg[y[1]]) , x.interactionStore))))\n",
    "print(len(l))\n",
    "x.interactionStore"
   ]
  },
  {
   "cell_type": "code",
   "execution_count": null,
   "metadata": {},
   "outputs": [],
   "source": [
    "x.linkEvidence"
   ]
  },
  {
   "cell_type": "code",
   "execution_count": null,
   "metadata": {},
   "outputs": [],
   "source": [
    "m = sorted(list(map(lambda y: (mappingOrg[y[0]],mappingOrg[y[1]]) , x.interactionStore)))\n",
    "set(m) - set(l)"
   ]
  },
  {
   "cell_type": "code",
   "execution_count": null,
   "metadata": {},
   "outputs": [],
   "source": [
    "x.interactionStore"
   ]
  },
  {
   "cell_type": "code",
   "execution_count": null,
   "metadata": {},
   "outputs": [],
   "source": [
    "x.stringNames"
   ]
  },
  {
   "cell_type": "code",
   "execution_count": null,
   "metadata": {},
   "outputs": [],
   "source": [
    "x.toList()"
   ]
  },
  {
   "cell_type": "code",
   "execution_count": null,
   "metadata": {},
   "outputs": [],
   "source": [
    "y = x.toMatrix()\n",
    "# nx.draw(y,with_labels=True)\n",
    "y"
   ]
  },
  {
   "cell_type": "code",
   "execution_count": null,
   "metadata": {},
   "outputs": [],
   "source": [
    "nx.draw(x.toGraph())"
   ]
  },
  {
   "cell_type": "code",
   "execution_count": null,
   "metadata": {},
   "outputs": [],
   "source": [
    "g = f.filterByTaxa([('maxillopoda','class')])\n",
    "len(g.stringNames)"
   ]
  },
  {
   "cell_type": "code",
   "execution_count": null,
   "metadata": {},
   "outputs": [],
   "source": [
    "f.stringNames"
   ]
  },
  {
   "cell_type": "code",
   "execution_count": null,
   "metadata": {},
   "outputs": [],
   "source": [
    "interactions = g.interactions\n",
    "total = 0\n",
    "for item in interactions:\n",
    "    for item2 in interactions[item]:\n",
    "        total += len(interactions[item][item2])\n",
    "\n",
    "total"
   ]
  },
  {
   "cell_type": "code",
   "execution_count": null,
   "metadata": {},
   "outputs": [],
   "source": [
    "len(g.datasetMetas), len(f.datasetMetas)"
   ]
  },
  {
   "cell_type": "code",
   "execution_count": null,
   "metadata": {},
   "outputs": [],
   "source": [
    "len(g.linkMetas)"
   ]
  },
  {
   "cell_type": "code",
   "execution_count": null,
   "metadata": {},
   "outputs": [],
   "source": [
    "g.datasetMetas"
   ]
  },
  {
   "cell_type": "code",
   "execution_count": null,
   "metadata": {},
   "outputs": [],
   "source": [
    "len(g.taxaExceptions), len(f.taxaExceptions)"
   ]
  },
  {
   "cell_type": "code",
   "execution_count": null,
   "metadata": {},
   "outputs": [],
   "source": [
    "len(g.stringNames), len(f.stringNames)"
   ]
  },
  {
   "cell_type": "code",
   "execution_count": null,
   "metadata": {},
   "outputs": [],
   "source": [
    "len(g.interactions), len(f.interactions)"
   ]
  },
  {
   "cell_type": "code",
   "execution_count": null,
   "metadata": {},
   "outputs": [],
   "source": [
    "g.summarise()"
   ]
  },
  {
   "cell_type": "code",
   "execution_count": null,
   "metadata": {},
   "outputs": [],
   "source": [
    "m = f.replicateFoodWeb()\n",
    "m.logbook"
   ]
  },
  {
   "cell_type": "code",
   "execution_count": null,
   "metadata": {},
   "outputs": [],
   "source": [
    "m.logbook = []"
   ]
  },
  {
   "cell_type": "code",
   "execution_count": null,
   "metadata": {},
   "outputs": [],
   "source": [
    "m.logbook"
   ]
  },
  {
   "cell_type": "code",
   "execution_count": null,
   "metadata": {},
   "outputs": [],
   "source": [
    "f.logbook"
   ]
  },
  {
   "cell_type": "code",
   "execution_count": null,
   "metadata": {},
   "outputs": [],
   "source": [
    "f.viewSessionTaxonomicExceptions()"
   ]
  },
  {
   "cell_type": "code",
   "execution_count": null,
   "metadata": {},
   "outputs": [],
   "source": [
    "def ff(*args,**kwargs):\n",
    "    print(args,kwargs)\n",
    "\n",
    "ff('hello',new='OK')"
   ]
  },
  {
   "cell_type": "code",
   "execution_count": null,
   "metadata": {},
   "outputs": [],
   "source": [
    "import os\n",
    "files = list(filter(lambda x: \".py\" in x,os.listdir(\".\")))\n",
    "files"
   ]
  },
  {
   "cell_type": "code",
   "execution_count": null,
   "metadata": {},
   "outputs": [],
   "source": [
    "lines = 0\n",
    "for f in files:\n",
    "    with open(f,'r') as fh:\n",
    "        lines += len(fh.readlines())\n",
    "lines"
   ]
  },
  {
   "cell_type": "code",
   "execution_count": null,
   "metadata": {},
   "outputs": [],
   "source": [
    "sum([[1,2],[3,4]],[])"
   ]
  },
  {
   "cell_type": "code",
   "execution_count": null,
   "metadata": {},
   "outputs": [],
   "source": [
    "from common import *\n",
    "from config import *\n",
    "\n",
    "mapping = retrieveObjFromStore('./CompressedWebStore',REALNAMES)\n",
    "mapping = {v:k for k,v in mapping.items()}"
   ]
  },
  {
   "cell_type": "code",
   "execution_count": null,
   "metadata": {},
   "outputs": [],
   "source": [
    "list(*[(1,4), (2,5), (3,6)])"
   ]
  },
  {
   "cell_type": "code",
   "execution_count": null,
   "metadata": {},
   "outputs": [],
   "source": [
    "id(\"d]]\")"
   ]
  },
  {
   "cell_type": "code",
   "execution_count": null,
   "metadata": {},
   "outputs": [],
   "source": [
    "!pip install Medeina "
   ]
  },
  {
   "cell_type": "code",
   "execution_count": null,
   "metadata": {},
   "outputs": [],
   "source": [
    "from Medeina.webStore import WebStore\n",
    "f = WebStore()"
   ]
  },
  {
   "cell_type": "code",
   "execution_count": null,
   "metadata": {},
   "outputs": [],
   "source": [
    "f.audit()"
   ]
  },
  {
   "cell_type": "code",
   "execution_count": null,
   "metadata": {},
   "outputs": [],
   "source": [
    "!pip install ete2"
   ]
  },
  {
   "cell_type": "code",
   "execution_count": null,
   "metadata": {},
   "outputs": [],
   "source": [
    "from ete2 import NCBITaxa\n",
    "ncbi = NCBITaxa()"
   ]
  }
 ],
 "metadata": {
  "kernelspec": {
   "display_name": "Python 3",
   "language": "python",
   "name": "python3"
  },
  "language_info": {
   "codemirror_mode": {
    "name": "ipython",
    "version": 3
   },
   "file_extension": ".py",
   "mimetype": "text/x-python",
   "name": "python",
   "nbconvert_exporter": "python",
   "pygments_lexer": "ipython3",
   "version": "3.6.10"
  }
 },
 "nbformat": 4,
 "nbformat_minor": 4
}
