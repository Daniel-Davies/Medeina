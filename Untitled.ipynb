{
 "cells": [
  {
   "cell_type": "code",
   "execution_count": 1,
   "metadata": {},
   "outputs": [],
   "source": [
    "from Web import Web"
   ]
  },
  {
   "cell_type": "code",
   "execution_count": 2,
   "metadata": {},
   "outputs": [],
   "source": [
    "f = Web()\n",
    "\n",
    "# f.addTaxonomicExcpetion('Zavrelimyia Barbatipes agg.','family','genus',True)"
   ]
  },
  {
   "cell_type": "code",
   "execution_count": 3,
   "metadata": {},
   "outputs": [
    {
     "data": {
      "text/plain": [
       "64"
      ]
     },
     "execution_count": 3,
     "metadata": {},
     "output_type": "execute_result"
    }
   ],
   "source": [
    "g = f.filterByTaxa([('maxillopoda','class')])\n",
    "len(g.stringNames)"
   ]
  },
  {
   "cell_type": "code",
   "execution_count": 4,
   "metadata": {},
   "outputs": [
    {
     "data": {
      "text/plain": [
       "{'orthocyclops modestus': 328,\n",
       " 'paraeuchaeta antarctica': 513,\n",
       " 'chthamalus bisinuatus': 535,\n",
       " 'balanus eburneus': 588,\n",
       " 'oithona nana': 603,\n",
       " 'balanus laevis': 657,\n",
       " 'diosaccus tenuicornis': 675,\n",
       " 'scottolana canadensis': 684,\n",
       " 'austromegabalanus psittacus': 716,\n",
       " 'elminius modestus': 734,\n",
       " 'temora turbinata': 774,\n",
       " 'labidocera wollastoni': 803,\n",
       " 'calanus propinquus': 854,\n",
       " 'clytemnestra rostrata': 904,\n",
       " 'harpacticus gracilis': 907,\n",
       " 'megabalanus tintinnabulum': 914,\n",
       " 'balanus balanus': 922,\n",
       " 'temora stylifera': 928,\n",
       " 'paralaophonte brevirostris': 978,\n",
       " 'eurytemora americana': 1039,\n",
       " 'alteutha depressa': 1091,\n",
       " 'paracalanus parvus': 1126,\n",
       " 'bradyidius similis': 1249,\n",
       " 'verruca stroemia': 1256,\n",
       " 'corycaeus speciosus': 1303,\n",
       " 'acartia clausi': 1322,\n",
       " 'semibalanus balanoides': 1368,\n",
       " 'acartia tonsa': 1387,\n",
       " 'calanus finmarchicus': 1429,\n",
       " 'diaptomus sicilis': 1434,\n",
       " 'calanus glacialis': 1492,\n",
       " 'rhincalanus gigas': 1744,\n",
       " 'oithona colcarva': 1752,\n",
       " 'acartia hudsonica': 1789,\n",
       " 'rhincalanus nasutus': 1834,\n",
       " 'metridia gerlachei': 1836,\n",
       " 'metridia lucens': 1846,\n",
       " 'calanus helgolandicus': 1874,\n",
       " 'calanus hyperboreus': 1941,\n",
       " 'neoscolecithrix farrani': 2048,\n",
       " 'diaptomus oregonensis': 2133,\n",
       " 'calanoides acutus': 2185,\n",
       " 'oithona similis': 2238,\n",
       " 'centropages furcatus': 2282,\n",
       " 'balanus improvisus': 2337,\n",
       " 'centropages hamatus': 2466,\n",
       " 'halicyclops magniceps': 2492,\n",
       " 'ectinosoma compressum': 2555,\n",
       " 'cyclops bicuspidatus': 2794,\n",
       " 'ergasilus versicolor': 2798,\n",
       " 'zaus spinatus': 2808,\n",
       " 'tetraclita stalactifera': 2918,\n",
       " 'harpacticus chelifer': 3062,\n",
       " 'paracalanus crassirostris': 3066,\n",
       " 'tisbe furcata': 3133,\n",
       " 'temora longicornis': 3195,\n",
       " 'pseudocalanus elongatus': 3252,\n",
       " 'eurytemora affinis': 3281,\n",
       " 'euterpina acutifrons': 3293,\n",
       " 'centropages typicus': 3309,\n",
       " 'chthamalus stellatus': 3399,\n",
       " 'farranula gracilis': 3433,\n",
       " 'microcalanus pusillus': 3557,\n",
       " 'canuella elongata': 3561}"
      ]
     },
     "execution_count": 4,
     "metadata": {},
     "output_type": "execute_result"
    }
   ],
   "source": [
    "g.stringNames"
   ]
  },
  {
   "cell_type": "code",
   "execution_count": 11,
   "metadata": {},
   "outputs": [
    {
     "data": {
      "text/plain": [
       "904"
      ]
     },
     "execution_count": 11,
     "metadata": {},
     "output_type": "execute_result"
    }
   ],
   "source": [
    "interactions = g.interactions\n",
    "total = 0\n",
    "for item in interactions:\n",
    "    for item2 in interactions[item]:\n",
    "        total += len(interactions[item][item2])\n",
    "\n",
    "total"
   ]
  },
  {
   "cell_type": "code",
   "execution_count": null,
   "metadata": {},
   "outputs": [],
   "source": [
    "len(g.datasetMetas), len(f.datasetMetas)"
   ]
  },
  {
   "cell_type": "code",
   "execution_count": 7,
   "metadata": {},
   "outputs": [
    {
     "data": {
      "text/plain": [
       "904"
      ]
     },
     "execution_count": 7,
     "metadata": {},
     "output_type": "execute_result"
    }
   ],
   "source": [
    "len(g.linkMetas)"
   ]
  },
  {
   "cell_type": "code",
   "execution_count": null,
   "metadata": {},
   "outputs": [],
   "source": [
    "g.datasetMetas"
   ]
  },
  {
   "cell_type": "code",
   "execution_count": null,
   "metadata": {},
   "outputs": [],
   "source": [
    "len(g.taxaExceptions), len(f.taxaExceptions)"
   ]
  },
  {
   "cell_type": "code",
   "execution_count": null,
   "metadata": {},
   "outputs": [],
   "source": [
    "len(g.stringNames), len(f.stringNames)"
   ]
  },
  {
   "cell_type": "code",
   "execution_count": null,
   "metadata": {},
   "outputs": [],
   "source": [
    "len(g.interactions), len(f.interactions)"
   ]
  },
  {
   "cell_type": "code",
   "execution_count": null,
   "metadata": {},
   "outputs": [],
   "source": [
    "g.summarise()"
   ]
  },
  {
   "cell_type": "code",
   "execution_count": null,
   "metadata": {},
   "outputs": [],
   "source": [
    "m = f.replicateFoodWeb()\n",
    "m.logbook"
   ]
  },
  {
   "cell_type": "code",
   "execution_count": null,
   "metadata": {},
   "outputs": [],
   "source": [
    "m.logbook = []"
   ]
  },
  {
   "cell_type": "code",
   "execution_count": null,
   "metadata": {},
   "outputs": [],
   "source": [
    "m.logbook"
   ]
  },
  {
   "cell_type": "code",
   "execution_count": null,
   "metadata": {},
   "outputs": [],
   "source": [
    "f.logbook"
   ]
  },
  {
   "cell_type": "code",
   "execution_count": null,
   "metadata": {},
   "outputs": [],
   "source": [
    "f.viewSessionTaxonomicExceptions()"
   ]
  },
  {
   "cell_type": "code",
   "execution_count": null,
   "metadata": {},
   "outputs": [],
   "source": [
    "def ff(*args,**kwargs):\n",
    "    print(args,kwargs)\n",
    "\n",
    "ff('hello',new='OK')"
   ]
  },
  {
   "cell_type": "code",
   "execution_count": null,
   "metadata": {},
   "outputs": [],
   "source": []
  }
 ],
 "metadata": {
  "kernelspec": {
   "display_name": "Python 3",
   "language": "python",
   "name": "python3"
  },
  "language_info": {
   "codemirror_mode": {
    "name": "ipython",
    "version": 3
   },
   "file_extension": ".py",
   "mimetype": "text/x-python",
   "name": "python",
   "nbconvert_exporter": "python",
   "pygments_lexer": "ipython3",
   "version": "3.6.10"
  }
 },
 "nbformat": 4,
 "nbformat_minor": 4
}
